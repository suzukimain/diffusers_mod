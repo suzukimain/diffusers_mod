{
  "nbformat": 4,
  "nbformat_minor": 0,
  "metadata": {
    "colab": {
      "private_outputs": true,
      "provenance": [],
      "gpuType": "T4",
      "authorship_tag": "ABX9TyMeg+Pcv/0Mr9fZBP0dgNWu",
      "include_colab_link": true
    },
    "kernelspec": {
      "name": "python3",
      "display_name": "Python 3"
    },
    "language_info": {
      "name": "python"
    },
    "accelerator": "GPU"
  },
  "cells": [
    {
      "cell_type": "markdown",
      "metadata": {
        "id": "view-in-github",
        "colab_type": "text"
      },
      "source": [
        "<a href=\"https://colab.research.google.com/github/suzukimain/diffusers_mod/blob/main/Example.ipynb\" target=\"_parent\"><img src=\"https://colab.research.google.com/assets/colab-badge.svg\" alt=\"Open In Colab\"/></a>"
      ]
    },
    {
      "cell_type": "code",
      "source": [
        "!pip install transformers accelerate -q\n",
        "!pip install git+https://github.com/suzukimain/diffusers_mod.git -q\n",
        "from diffusers import DiffusionPipeline\n",
        "import torch\n",
        "\n",
        "from diffusers.pipelines.deepfloyd_if.safety_checker import IFSafetyChecker"
      ],
      "metadata": {
        "id": "hygdxE9MYoyU"
      },
      "execution_count": null,
      "outputs": []
    },
    {
      "cell_type": "code",
      "execution_count": null,
      "metadata": {
        "id": "vnVGHnPxXtF5"
      },
      "outputs": [],
      "source": [
        "pipeline = DiffusionPipeline.from_pretrained(\"Linaqruf/anything-v3.0\", torch_dtype=torch.float16)\n",
        "pipeline.to(\"cuda\")\n",
        "\n",
        "\n",
        "IFSafetyChecker.safety_level=0.3\n",
        "\n",
        "\n",
        "img=pipeline(\"1girl\").images[0]\n",
        "img"
      ]
    }
  ]
}